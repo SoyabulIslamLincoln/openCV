{
 "metadata": {
  "language_info": {
   "codemirror_mode": {
    "name": "ipython",
    "version": 3
   },
   "file_extension": ".py",
   "mimetype": "text/x-python",
   "name": "python",
   "nbconvert_exporter": "python",
   "pygments_lexer": "ipython3",
   "version": "3.8.3-final"
  },
  "orig_nbformat": 2,
  "kernelspec": {
   "name": "python3",
   "display_name": "Python 3"
  }
 },
 "nbformat": 4,
 "nbformat_minor": 2,
 "cells": [
  {
   "cell_type": "code",
   "execution_count": 3,
   "metadata": {},
   "outputs": [],
   "source": [
    "import cv2\n",
    "import numpy as np\n",
    "img=cv2.imread(\"IMG-20181215-WA0012.jpg\")\n",
    "img1= cv2.pyrDown(img)\n",
    "img2=cv2.pyrDown(img1)\n",
    "\n",
    "cv2.imshow('Image', img)\n",
    "cv2.imshow('Image_1', img1)\n",
    "cv2.imshow('Image_2', img2)\n",
    "cv2.waitKey(0)\n",
    "cv2.destroyAllWindows()"
   ]
  },
  {
   "cell_type": "code",
   "execution_count": 5,
   "metadata": {},
   "outputs": [],
   "source": [
    "layer=img.copy()\n",
    "gp=[layer]\n",
    "\n",
    "\n",
    "for i in range(6):\n",
    "    layer= cv2.pyrDown(layer)\n",
    "    gp.append(layer)\n",
    "    cv2.imshow(f'Image{str(i)}', layer)\n",
    "\n",
    "cv2.imshow('Main image', img)\n",
    "cv2.waitKey(0)\n",
    "cv2.destroyAllWindows()"
   ]
  },
  {
   "cell_type": "code",
   "execution_count": 6,
   "metadata": {
    "tags": []
   },
   "outputs": [
    {
     "output_type": "stream",
     "name": "stdout",
     "text": "5\n4\n3\n2\n1\n"
    }
   ],
   "source": [
    "layer=img.copy()\n",
    "gp=[layer]\n",
    "\n",
    "\n",
    "for i in range(6):\n",
    "    layer= cv2.pyrDown(layer)\n",
    "    gp.append(layer)\n",
    "    #cv2.imshow(f'Image{str(i)}', layer)\n",
    "layer=gp[4]\n",
    "cv2.imshow('Upper level Gaussian Pyramid', layer)\n",
    "lp=[layer]\n",
    "for i in range(5,0,-1):\n",
    "    print(i)\n",
    "\n",
    "cv2.imshow('Main image', img)\n",
    "cv2.waitKey(0)\n",
    "cv2.destroyAllWindows()"
   ]
  },
  {
   "cell_type": "code",
   "execution_count": 14,
   "metadata": {},
   "outputs": [],
   "source": [
    "layer=img.copy()\n",
    "gp=[layer]\n",
    "\n",
    "\n",
    "for i in range(6):\n",
    "    layer= cv2.pyrDown(layer)\n",
    "    gp.append(layer)\n",
    "    #cv2.imshow(f'Image{str(i)}', layer)\n",
    "    \n",
    "layer=gp[5]\n",
    "cv2.imshow('Upper level Gaussian Pyramid', layer)\n",
    "lp=[layer]\n",
    "for i in range(5,0,-1):\n",
    "    gaussian_extended= cv2.pyrUp(gp[i])\n",
    "    laplacian=cv2.subtract(gp[i-1], gaussian_extended)\n",
    "    cv2.imshow(f'Image{str(i)}', laplacian)\n",
    "\n",
    "cv2.imshow('Main image', img)\n",
    "cv2.waitKey(0)\n",
    "cv2.destroyAllWindows()"
   ]
  },
  {
   "cell_type": "code",
   "execution_count": null,
   "metadata": {},
   "outputs": [],
   "source": []
  }
 ]
}