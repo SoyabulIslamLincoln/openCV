{
 "cells": [
  {
   "cell_type": "code",
   "execution_count": 1,
   "metadata": {},
   "outputs": [
    {
     "name": "stdout",
     "output_type": "stream",
     "text": [
      "(682, 1024, 3)\n",
      "2095104\n",
      "uint8\n"
     ]
    }
   ],
   "source": [
    "import numpy as np\n",
    "import cv2\n",
    "img=cv2.imread('c41cd782b962e5ba758c9bb7104b9400.jpg')\n",
    "\n",
    "print(img.shape)\n",
    "print(img.size)\n",
    "print(img.dtype)\n",
    "b,g,r=cv2.split(img)\n",
    "\n",
    "##REGION OF INTEREST\n",
    "ball=img[280:340, 330:390]\n",
    "img[273:333, 100:160]=ball\n",
    "\n",
    "cv2.imshow('image', img)\n",
    "cv2.waitKey(0)\n",
    "cv2.destroyAllWindows()"
   ]
  },
  {
   "cell_type": "markdown",
   "metadata": {},
   "source": [
    "# merge image"
   ]
  },
  {
   "cell_type": "code",
   "execution_count": 2,
   "metadata": {},
   "outputs": [
    {
     "name": "stdout",
     "output_type": "stream",
     "text": [
      "(682, 1024, 3)\n",
      "2095104\n",
      "uint8\n"
     ]
    }
   ],
   "source": [
    "import numpy as np\n",
    "import cv2\n",
    "img=cv2.imread('c41cd782b962e5ba758c9bb7104b9400.jpg')\n",
    "img2=cv2.imread('sun-hing-dim-sum-basket-dim-sum-1700x1133-1024x682.jpg')\n",
    "\n",
    "print(img.shape)\n",
    "print(img.size)\n",
    "print(img.dtype)\n",
    "b,g,r=cv2.split(img)\n",
    "ball=img[280:340, 330:390]\n",
    "img[273:333, 100:160]=ball\n",
    "\n",
    "img=cv2.resize(img, (512,512))\n",
    "img2=cv2.resize(img2, (512,512))\n",
    "final=cv2.add(img, img2)\n",
    "\n",
    "\n",
    "\n",
    "cv2.imshow('image', final)\n",
    "cv2.waitKey(0)\n",
    "cv2.destroyAllWindows()"
   ]
  },
  {
   "cell_type": "code",
   "execution_count": 3,
   "metadata": {},
   "outputs": [
    {
     "name": "stdout",
     "output_type": "stream",
     "text": [
      "(682, 1024, 3)\n",
      "2095104\n",
      "uint8\n"
     ]
    }
   ],
   "source": [
    "import numpy as np\n",
    "import cv2\n",
    "img=cv2.imread('c41cd782b962e5ba758c9bb7104b9400.jpg')\n",
    "img2=cv2.imread('sun-hing-dim-sum-basket-dim-sum-1700x1133-1024x682.jpg')\n",
    "\n",
    "print(img.shape)\n",
    "print(img.size)\n",
    "print(img.dtype)\n",
    "b,g,r=cv2.split(img)\n",
    "ball=img[280:340, 330:390]\n",
    "img[273:333, 100:160]=ball\n",
    "\n",
    "img=cv2.resize(img, (512,512))\n",
    "img2=cv2.resize(img2, (512,512))\n",
    "final=cv2.addWeighted(img,0.8,img2, 0.2, 0)\n",
    "\n",
    "\n",
    "\n",
    "cv2.imshow('image', final)\n",
    "cv2.waitKey(0)\n",
    "cv2.destroyAllWindows()"
   ]
  },
  {
   "cell_type": "code",
   "execution_count": null,
   "metadata": {},
   "outputs": [],
   "source": []
  }
 ],
 "metadata": {
  "kernelspec": {
   "display_name": "Python 3",
   "language": "python",
   "name": "python3"
  },
  "language_info": {
   "codemirror_mode": {
    "name": "ipython",
    "version": 3
   },
   "file_extension": ".py",
   "mimetype": "text/x-python",
   "name": "python",
   "nbconvert_exporter": "python",
   "pygments_lexer": "ipython3",
   "version": "3.7.6"
  }
 },
 "nbformat": 4,
 "nbformat_minor": 4
}
