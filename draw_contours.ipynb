{
 "metadata": {
  "language_info": {
   "codemirror_mode": {
    "name": "ipython",
    "version": 3
   },
   "file_extension": ".py",
   "mimetype": "text/x-python",
   "name": "python",
   "nbconvert_exporter": "python",
   "pygments_lexer": "ipython3",
   "version": "3.8.3-final"
  },
  "orig_nbformat": 2,
  "kernelspec": {
   "name": "python3",
   "display_name": "Python 3"
  }
 },
 "nbformat": 4,
 "nbformat_minor": 2,
 "cells": [
  {
   "cell_type": "code",
   "execution_count": 17,
   "metadata": {
    "tags": []
   },
   "outputs": [
    {
     "output_type": "stream",
     "name": "stdout",
     "text": "number of contours= 1354\n[[[525 678]]]\n"
    }
   ],
   "source": [
    "import cv2\n",
    "import numpy as np\n",
    "#img=cv2.imread('dimsum.jpg')\n",
    "#img=cv2.imread('IMG-20181215-WA0012.jpg')\n",
    "img=cv2.imread('c41cd782b962e5ba758c9bb7104b9400.jpg')\n",
    "imgray= cv2.cvtColor(img, cv2.COLOR_BGR2GRAY)\n",
    "#.imshocv2.imshow('Main', img)\n",
    "\n",
    "\n",
    "ret, thresh= cv2.threshold(imgray,120,255,1)\n",
    "contours, hierarchy= cv2.findContours(thresh,cv2.RETR_TREE,cv2.CHAIN_APPROX_NONE)\n",
    "print(\"number of contours= \"+ str(len(contours)))\n",
    "print(contours[0])\n",
    "\n",
    "cv2.drawContours(img, contours,-1, (0,255,0), 1)\n",
    "cv2.imshow('Image gray', imgray)\n",
    "cv2.imshow('Image', img)\n",
    "\n",
    "cv2.waitKey(0)\n",
    "cv2.destroyAllWindows()\n",
    "\n",
    "\n",
    "\n",
    "\n",
    "\n",
    "\n",
    "\n",
    "\n",
    "\n",
    "\n",
    "\n",
    "\n",
    "\n",
    "\n",
    "\n",
    "\n"
   ]
  },
  {
   "cell_type": "code",
   "execution_count": null,
   "metadata": {},
   "outputs": [],
   "source": []
  }
 ]
}