{
 "metadata": {
  "language_info": {
   "codemirror_mode": {
    "name": "ipython",
    "version": 3
   },
   "file_extension": ".py",
   "mimetype": "text/x-python",
   "name": "python",
   "nbconvert_exporter": "python",
   "pygments_lexer": "ipython3",
   "version": "3.8.3-final"
  },
  "orig_nbformat": 2,
  "kernelspec": {
   "name": "python3",
   "display_name": "Python 3"
  }
 },
 "nbformat": 4,
 "nbformat_minor": 2,
 "cells": [
  {
   "cell_type": "code",
   "execution_count": 1,
   "metadata": {},
   "outputs": [],
   "source": [
    "#CONCEPT BEHIND HALF TRANSFORM\n"
   ]
  },
  {
   "cell_type": "code",
   "execution_count": 2,
   "metadata": {},
   "outputs": [],
   "source": [
    "import cv2\n",
    "import numpy as np\n"
   ]
  },
  {
   "cell_type": "code",
   "execution_count": 5,
   "metadata": {},
   "outputs": [],
   "source": [
    "img=cv2.imread('sudoku.png',0)\n",
    "edges=cv2.Canny(img, 50,150, apertureSize=3)\n",
    "\n",
    "lines= cv2.HoughLines(edges, 1, np.pi/180, 200)\n",
    "\n",
    "for line in lines:\n",
    "    rho, theta= line[0]\n",
    "    a= np.cos(theta)\n",
    "    b=np.sin(theta)\n",
    "    x0= a*rho\n",
    "    y0= b*rho\n",
    "    x1=int(x0+ 1000*(-b))\n",
    "    y1=int(y0+ 1000*(a))\n",
    "    x2=int(x0- 1000*(-b))\n",
    "    y2=int(y0- 1000*(a))\n",
    "    cv2.line(img, (x1,y1), (x2,y2),(255,255,0),2)\n",
    "\n",
    "cv2.imshow('image', img)\n",
    "cv2.imshow('Edges', edges)\n",
    "cv2.waitKey(0)\n",
    "cv2.destroyAllWindows()\n"
   ]
  },
  {
   "cell_type": "code",
   "execution_count": null,
   "metadata": {},
   "outputs": [],
   "source": []
  }
 ]
}