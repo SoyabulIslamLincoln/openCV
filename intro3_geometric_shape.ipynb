{
 "cells": [
  {
   "cell_type": "code",
   "execution_count": 14,
   "metadata": {},
   "outputs": [],
   "source": [
    "import numpy as np\n",
    "import cv2\n",
    "#image=cv2.imread('IMG-20181215-WA0012.jpg',1)\n",
    "image=np.zeros([512,512,3], np.uint8)\n",
    "image= cv2.line(image,(0,0),(255,255), (255,0,0), 2)\n",
    "image= cv2.arrowedLine(image,(0,255),(255,255), (255,60,90), 2)\n",
    "image=cv2.rectangle(image,(380,0),(510,128), (0,240,50), 2)\n",
    "image=cv2.circle(image,(400,200), 40, (100,200,50),1)\n",
    "font=cv2.FONT_HERSHEY_SIMPLEX\n",
    "image=cv2.putText(image, 'OpenCv', (10,500), font, 4,(255,255,255), 10, cv2.LINE_AA)\n",
    "cv2.imshow('image', image)\n",
    "cv2.waitKey()\n",
    "cv2.destroyAllWindows()"
   ]
  },
  {
   "cell_type": "code",
   "execution_count": null,
   "metadata": {},
   "outputs": [],
   "source": []
  }
 ],
 "metadata": {
  "kernelspec": {
   "display_name": "Python 3",
   "language": "python",
   "name": "python3"
  },
  "language_info": {
   "codemirror_mode": {
    "name": "ipython",
    "version": 3
   },
   "file_extension": ".py",
   "mimetype": "text/x-python",
   "name": "python",
   "nbconvert_exporter": "python",
   "pygments_lexer": "ipython3",
   "version": "3.7.6"
  }
 },
 "nbformat": 4,
 "nbformat_minor": 4
}
